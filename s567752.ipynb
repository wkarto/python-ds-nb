{
 "cells": [
  {
   "cell_type": "markdown",
   "id": "ef2de174",
   "metadata": {},
   "source": [
    "# Name: Womenker Karto"
   ]
  },
  {
   "cell_type": "code",
   "execution_count": 1,
   "id": "d51158e1",
   "metadata": {},
   "outputs": [
    {
     "name": "stdout",
     "output_type": "stream",
     "text": [
      "*      *\n",
      "**    **\n",
      "***  ***\n",
      "********\n"
     ]
    }
   ],
   "source": [
    "\n",
    "rows = 4\n",
    "for i in range(1, rows + 1):\n",
    "    stars = \"*\" * i\n",
    "    spaces = \" \" * (2 * (rows - i))\n",
    "    print(stars + spaces + stars)\n"
   ]
  }
 ],
 "metadata": {
  "kernelspec": {
   "display_name": "Python 3",
   "language": "python",
   "name": "python3"
  },
  "language_info": {
   "codemirror_mode": {
    "name": "ipython",
    "version": 3
   },
   "file_extension": ".py",
   "mimetype": "text/x-python",
   "name": "python",
   "nbconvert_exporter": "python",
   "pygments_lexer": "ipython3",
   "version": "3.10.0"
  }
 },
 "nbformat": 4,
 "nbformat_minor": 5
}
