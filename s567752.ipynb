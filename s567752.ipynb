{
 "cells": [
  {
   "cell_type": "markdown",
   "id": "ef2de174",
   "metadata": {},
   "source": [
    "# Name: Womenker Karto"
   ]
  },
  {
   "cell_type": "markdown",
   "id": "53a0c7a5",
   "metadata": {},
   "source": [
    "## Question 10"
   ]
  },
  {
   "cell_type": "code",
   "execution_count": 2,
   "id": "d51158e1",
   "metadata": {},
   "outputs": [
    {
     "name": "stdout",
     "output_type": "stream",
     "text": [
      "*      *\n",
      "**    **\n",
      "***  ***\n",
      "********\n"
     ]
    }
   ],
   "source": [
    "\n",
    "rows = 4\n",
    "for i in range(1, rows + 1):\n",
    "    stars = \"*\" * i\n",
    "    spaces = \" \" * (2 * (rows - i))\n",
    "    print(stars + spaces + stars)\n"
   ]
  },
  {
   "cell_type": "code",
   "execution_count": 4,
   "id": "151c3278",
   "metadata": {},
   "outputs": [
    {
     "data": {
      "text/plain": [
       "0"
      ]
     },
     "execution_count": 4,
     "metadata": {},
     "output_type": "execute_result"
    }
   ],
   "source": [
    "import os\n",
    "os.system('jupyter nbconvert --to html s567752.ipynb')"
   ]
  }
 ],
 "metadata": {
  "kernelspec": {
   "display_name": "Python 3",
   "language": "python",
   "name": "python3"
  },
  "language_info": {
   "codemirror_mode": {
    "name": "ipython",
    "version": 3
   },
   "file_extension": ".py",
   "mimetype": "text/x-python",
   "name": "python",
   "nbconvert_exporter": "python",
   "pygments_lexer": "ipython3",
   "version": "3.10.0"
  }
 },
 "nbformat": 4,
 "nbformat_minor": 5
}
